{
  "nbformat": 4,
  "nbformat_minor": 0,
  "metadata": {
    "colab": {
      "provenance": [],
      "authorship_tag": "ABX9TyPB8yEVfpoHHkNC2smJP6qN",
      "include_colab_link": true
    },
    "kernelspec": {
      "name": "python3",
      "display_name": "Python 3"
    },
    "language_info": {
      "name": "python"
    }
  },
  "cells": [
    {
      "cell_type": "markdown",
      "metadata": {
        "id": "view-in-github",
        "colab_type": "text"
      },
      "source": [
        "<a href=\"https://colab.research.google.com/github/kennetchau/easyHtmlTable/blob/main/easyHtmlTable.ipynb\" target=\"_parent\"><img src=\"https://colab.research.google.com/assets/colab-badge.svg\" alt=\"Open In Colab\"/></a>"
      ]
    },
    {
      "cell_type": "code",
      "execution_count": 1,
      "metadata": {
        "id": "oHlqz5WKdjW3"
      },
      "outputs": [],
      "source": [
        "import openpyxl"
      ]
    },
    {
      "cell_type": "code",
      "source": [
        "# Please enter the excel file name between the semi-colon and shift enter all the cell below\n",
        "ExcelFileName = \"\""
      ],
      "metadata": {
        "id": "KYrDZ5JKedqH"
      },
      "execution_count": null,
      "outputs": []
    },
    {
      "cell_type": "code",
      "source": [
        "# Define the easyHtmlTable function\n",
        "def easyHtmlTable(filename: str, sheetname: str, containHyper:int = None, firstColumn = 1, firstRow = 1, headerRow = True, htmlTableClass:str = None, htmlTableId:str = None):\n",
        "    workBook = openpyxl.load_workbook(filename)\n",
        "    workSheet = workBook[sheetname]\n",
        "\n",
        "    # Now we create a list for headers and a list of list for the body\n",
        "    header = []\n",
        "    body = []\n",
        "    htmlBody = \"\"\n",
        "\n",
        "    # Get the size of the table\n",
        "    maxColumn = workSheet.max_column\n",
        "    maxRow = workSheet.max_row\n",
        "\n",
        "    # Grab the header and store it in the list\n",
        "    if headerRow == True: \n",
        "        for item in range(firstColumn, maxColumn):\n",
        "            header.append(workSheet.cell(firstRow, column = item).value)\n",
        "    \n",
        "    # get the body and store them in the list of list\n",
        "    for rowNo in range(firstRow + 1, maxRow +1):\n",
        "        rowElement = []\n",
        "        for columnNo in range(1, maxColumn):\n",
        "            if containHyper == None:\n",
        "                rowElement.append(workSheet.cell(row = rowNo, column = columnNo).value)\n",
        "            elif (columnNo == containHyper):\n",
        "                HyperList = []\n",
        "                target = []\n",
        "                try:\n",
        "                    target.append(workSheet.cell(row = rowNo, column = columnNo).hyperlink.target)\n",
        "                    target.append(workSheet.cell(row = rowNo, column = columnNo).value)\n",
        "                # Due to openpyxl bug in reading hyperlink, use string formatting\n",
        "                except:\n",
        "                    target = workSheet.cell(row = rowNo, column = columnNo).value\n",
        "                    target = target[target.find(\"(\"):][1:-1].replace('\"','').split(',')\n",
        "                HyperList.append(target[1].strip())\n",
        "                HyperList.append(target[0].strip())\n",
        "                rowElement.append(HyperList)\n",
        "            else:\n",
        "                rowElement.append(workSheet.cell(row = rowNo, column = columnNo).value)\n",
        "        body.append(rowElement)\n",
        "    \n",
        "\n",
        "    # Assemble the html header\n",
        "    HeaderElements = ''\n",
        "    for item in header:\n",
        "        HeaderElements = HeaderElements + '\\n' + \"<th>{}</th>\".format(item) \n",
        "    header = \"<thead>\\n<tr>{}</tr>\\n</thead>\".format(HeaderElements)\n",
        "    \n",
        "    # Assemble the body\n",
        "    BodyElements = ''\n",
        "    for row in body:\n",
        "        rowElement = ''\n",
        "        Entry = ''\n",
        "        for element in row:\n",
        "            if type(element) is list:\n",
        "                rowElement = '<td><a href=\"{}\">{}</a></td>'.format(element[1], element[0])\n",
        "            else:\n",
        "                rowElement = \"<td>{}</td>\".format(element)\n",
        "            Entry =  Entry + rowElement + '\\n'\n",
        "        BodyElements = BodyElements + '\\n<tr>\\n' + Entry + '\\n</tr>'\n",
        "    body = '<tbody>\\n{}\\n</tbody>'.format(BodyElements)\n",
        "\n",
        "    # Assemble the table tag\n",
        "    tableTag = 'table'\n",
        "    if htmlTableClass != None:\n",
        "        tableTag = tableTag + ' class=\"{}\"'.format(htmlTableClass)\n",
        "    if htmlTableId != None:\n",
        "        tableTag = tableTag + ' id=\"{}\"'.format(htmlTableId)\n",
        "    tableTag = \"<{}>\\n{{}}\\n</table>\".format(tableTag)\n",
        "\n",
        "    # Assemble the html\n",
        "    htmlBody = tableTag.format(header + '\\n' + body)\n",
        "\n",
        "    # Write the output html file\n",
        "    with open('output.html','w', encoding = 'utf-8-sig') as output:\n",
        "        output.write(htmlBody)"
      ],
      "metadata": {
        "id": "_gvlkpBPePCp"
      },
      "execution_count": 2,
      "outputs": []
    },
    {
      "cell_type": "code",
      "source": [
        "easyHtmlTable(ExcelFileName, 'Sheet1', containHyper = 1, htmlTableId= 'SAPAribaResourceGuide', htmlTableClass='wb-tables table')"
      ],
      "metadata": {
        "id": "CvaCOVzneUfE"
      },
      "execution_count": null,
      "outputs": []
    }
  ]
}